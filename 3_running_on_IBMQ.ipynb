{
 "cells": [
  {
   "cell_type": "markdown",
   "source": [
    "# 3. Running on IBM Q\n",
    "\n",
    "Author : [Gwonhak Lee](https://github.com/snow0369) (gwonhak@gmail.com)\n",
    "\n",
    "-----\n",
    " 다음으로 IBM의 양자컴퓨터를 활용하는 방법에 대해 살펴보겠습니다.\n",
    "\n",
    "### 0. 필요한 요소 불러오기"
   ],
   "metadata": {
    "collapsed": false
   }
  },
  {
   "cell_type": "code",
   "execution_count": 14,
   "outputs": [],
   "source": [
    "from qiskit import IBMQ, QuantumRegister, QuantumCircuit, ClassicalRegister, transpile\n",
    "from qiskit.tools import backend_overview, backend_monitor\n",
    "from qiskit.providers.ibmq.job import job_monitor\n",
    "from qiskit.quantum_info import hellinger_fidelity\n",
    "from qiskit.providers.ibmq import IBMQAccountCredentialsNotFound\n",
    "from qiskit.providers.aer import AerProvider\n",
    "from qiskit.tools.visualization import plot_gate_map, plot_histogram"
   ],
   "metadata": {
    "collapsed": false,
    "pycharm": {
     "name": "#%%\n"
    }
   }
  },
  {
   "cell_type": "markdown",
   "source": [
    "### 1. QPU Backend 확인\n",
    "\n",
    "IBMQ의 계정을 활성화합니다.\n",
    "\n",
    "1. IBMQ 홈페이지[(https://quantum-computing.ibm.com/)](https://quantum-computing.ibm.com/)에 로그인합니다.\n",
    "2. 좌측 상단의 계정 아이콘 -> Account Details 를 클릭합니다.\n",
    "3. 좌측 중앙에 Copy Token 버튼을 클릭하여 아래 Block의 token 변수에 string 형태로 입력합니다."
   ],
   "metadata": {
    "collapsed": false,
    "pycharm": {
     "name": "#%% md\n"
    }
   }
  },
  {
   "cell_type": "code",
   "execution_count": 15,
   "outputs": [
    {
     "data": {
      "text/plain": "<AccountProvider for IBMQ(hub='ibm-q', group='open', project='main')>"
     },
     "execution_count": 15,
     "metadata": {},
     "output_type": "execute_result"
    }
   ],
   "source": [
    "token = 'f5876d2c6ea00ce4cefe8fcf6324956e042cd2a7cd57f6efc1e7ba38727964f10cef560830337f64c1de3743c420c1b23ded52bc01b197c6d8ce96394f13f1e0'# Input token here\n",
    "try:\n",
    "    IBMQ.disable_account()\n",
    "except IBMQAccountCredentialsNotFound:\n",
    "    pass\n",
    "IBMQ.enable_account(token)"
   ],
   "metadata": {
    "collapsed": false,
    "pycharm": {
     "name": "#%%\n"
    }
   }
  },
  {
   "cell_type": "markdown",
   "source": [
    "활용할 수 있는 backend의 목록을 확인합니다."
   ],
   "metadata": {
    "collapsed": false,
    "pycharm": {
     "name": "#%% md\n"
    }
   }
  },
  {
   "cell_type": "code",
   "execution_count": 16,
   "outputs": [
    {
     "name": "stdout",
     "output_type": "stream",
     "text": [
      "ibmq_manila                  ibmq_quito                   ibmq_belem\n",
      "-----------                  ----------                   ----------\n",
      "Num. Qubits:  5              Num. Qubits:  5              Num. Qubits:  5\n",
      "Pending Jobs: 4              Pending Jobs: 95             Pending Jobs: 76\n",
      "Least busy:   False          Least busy:   False          Least busy:   False\n",
      "Operational:  True           Operational:  True           Operational:  True\n",
      "Avg. T1:      163.6          Avg. T1:      89.8           Avg. T1:      88.7\n",
      "Avg. T2:      58.3           Avg. T2:      109.8          Avg. T2:      108.8\n",
      "\n",
      "\n",
      "\n",
      "ibmq_lima                    ibmq_bogota                  ibmq_santiago\n",
      "---------                    -----------                  -------------\n",
      "Num. Qubits:  5              Num. Qubits:  5              Num. Qubits:  5\n",
      "Pending Jobs: 0              Pending Jobs: 1              Pending Jobs: 101\n",
      "Least busy:   True           Least busy:   False          Least busy:   False\n",
      "Operational:  True           Operational:  True           Operational:  True\n",
      "Avg. T1:      95.6           Avg. T1:      88.2           Avg. T1:      94.8\n",
      "Avg. T2:      104.4          Avg. T2:      113.4          Avg. T2:      113.0\n",
      "\n",
      "\n",
      "\n",
      "ibmq_armonk\n",
      "-----------\n",
      "Num. Qubits:  1\n",
      "Pending Jobs: 385\n",
      "Least busy:   False\n",
      "Operational:  True\n",
      "Avg. T1:      244.9\n",
      "Avg. T2:      255.7\n",
      "\n",
      "\n",
      "\n"
     ]
    }
   ],
   "source": [
    "backend_overview()"
   ],
   "metadata": {
    "collapsed": false,
    "pycharm": {
     "name": "#%%\n"
    }
   }
  },
  {
   "cell_type": "markdown",
   "source": [
    "특정한 qpu backend의 자세한 사항을 확인할 수 있습니다.\n",
    "\n",
    "아래 예시에서는 `ibmq_manila` 의 특성을 확인합니다."
   ],
   "metadata": {
    "collapsed": false,
    "pycharm": {
     "name": "#%% md\n"
    }
   }
  },
  {
   "cell_type": "code",
   "execution_count": 17,
   "outputs": [
    {
     "name": "stdout",
     "output_type": "stream",
     "text": [
      "ibmq_manila\n",
      "===========\n",
      "Configuration\n",
      "-------------\n",
      "    n_qubits: 5\n",
      "    operational: True\n",
      "    status_msg: active\n",
      "    pending_jobs: 4\n",
      "    backend_version: 1.0.5\n",
      "    basis_gates: ['id', 'rz', 'sx', 'x', 'cx', 'reset']\n",
      "    local: False\n",
      "    simulator: False\n",
      "    quantum_volume: 32\n",
      "    credits_required: True\n",
      "    sample_name: family: Falcon, revision: 5.11, segment: L\n",
      "    input_allowed: ['job']\n",
      "    pulse_num_channels: 9\n",
      "    memory: True\n",
      "    meas_levels: [1, 2]\n",
      "    qubit_lo_range: [[4.46277998307546, 5.46277998307546], [4.338419511638877, 5.338419511638877], [4.536938824727899, 5.536938824727899], [4.45130087049468, 5.45130087049468], [4.566354311434293, 5.566354311434293]]\n",
      "    u_channel_lo: [[{'q': 1, 'scale': (1+0j)}], [{'q': 0, 'scale': (1+0j)}], [{'q': 2, 'scale': (1+0j)}], [{'q': 1, 'scale': (1+0j)}], [{'q': 3, 'scale': (1+0j)}], [{'q': 2, 'scale': (1+0j)}], [{'q': 4, 'scale': (1+0j)}], [{'q': 3, 'scale': (1+0j)}]]\n",
      "    description: 5 qubit device\n",
      "    conditional: False\n",
      "    url: None\n",
      "    default_rep_delay: 250.0\n",
      "    processor_type: {'family': 'Falcon', 'revision': '5.11', 'segment': 'L'}\n",
      "    max_shots: 8192\n",
      "    dt: 0.2222222222222222\n",
      "    acquisition_latency: []\n",
      "    rep_delay_range: [0.0, 500.0]\n",
      "    supported_instructions: ['u3', 'cx', 'x', 'acquire', 'setf', 'sx', 'shiftf', 'reset', 'u1', 'id', 'delay', 'rz', 'measure', 'u2', 'play']\n",
      "    meas_lo_range: [[6.663214088, 7.663214088], [6.7833221550000005, 7.7833221550000005], [6.7189281020000005, 7.7189281020000005], [6.6101423420000005, 7.6101423420000005], [6.846997692, 7.846997692]]\n",
      "    coupling_map: [[0, 1], [1, 0], [1, 2], [2, 1], [2, 3], [3, 2], [3, 4], [4, 3]]\n",
      "    hamiltonian: {'description': 'Qubits are modeled as Duffing oscillators. In this case, the system includes higher energy states, i.e. not just |0> and |1>. The Pauli operators are generalized via the following set of transformations:\\n\\n$(\\\\mathbb{I}-\\\\sigma_{i}^z)/2 \\\\rightarrow O_i \\\\equiv b^\\\\dagger_{i} b_{i}$,\\n\\n$\\\\sigma_{+} \\\\rightarrow b^\\\\dagger$,\\n\\n$\\\\sigma_{-} \\\\rightarrow b$,\\n\\n$\\\\sigma_{i}^X \\\\rightarrow b^\\\\dagger_{i} + b_{i}$.\\n\\nQubits are coupled through resonator buses. The provided Hamiltonian has been projected into the zero excitation subspace of the resonator buses leading to an effective qubit-qubit flip-flop interaction. The qubit resonance frequencies in the Hamiltonian are the cavity dressed frequencies and not exactly what is returned by the backend defaults, which also includes the dressing due to the qubit-qubit interactions.\\n\\nQuantities are returned in angular frequencies, with units 2*pi*GHz.\\n\\nWARNING: Currently not all system Hamiltonian information is available to the public, missing values have been replaced with 0.\\n', 'h_latex': '\\\\begin{align} \\\\mathcal{H}/\\\\hbar = & \\\\sum_{i=0}^{4}\\\\left(\\\\frac{\\\\omega_{q,i}}{2}(\\\\mathbb{I}-\\\\sigma_i^{z})+\\\\frac{\\\\Delta_{i}}{2}(O_i^2-O_i)+\\\\Omega_{d,i}D_i(t)\\\\sigma_i^{X}\\\\right) \\\\\\\\ & + J_{0,1}(\\\\sigma_{0}^{+}\\\\sigma_{1}^{-}+\\\\sigma_{0}^{-}\\\\sigma_{1}^{+}) + J_{1,2}(\\\\sigma_{1}^{+}\\\\sigma_{2}^{-}+\\\\sigma_{1}^{-}\\\\sigma_{2}^{+}) + J_{2,3}(\\\\sigma_{2}^{+}\\\\sigma_{3}^{-}+\\\\sigma_{2}^{-}\\\\sigma_{3}^{+}) + J_{3,4}(\\\\sigma_{3}^{+}\\\\sigma_{4}^{-}+\\\\sigma_{3}^{-}\\\\sigma_{4}^{+}) \\\\\\\\ & + \\\\Omega_{d,0}(U_{0}^{(0,1)}(t))\\\\sigma_{0}^{X} + \\\\Omega_{d,1}(U_{1}^{(1,0)}(t)+U_{2}^{(1,2)}(t))\\\\sigma_{1}^{X} \\\\\\\\ & + \\\\Omega_{d,2}(U_{3}^{(2,1)}(t)+U_{4}^{(2,3)}(t))\\\\sigma_{2}^{X} + \\\\Omega_{d,3}(U_{6}^{(3,4)}(t)+U_{5}^{(3,2)}(t))\\\\sigma_{3}^{X} \\\\\\\\ & + \\\\Omega_{d,4}(U_{7}^{(4,3)}(t))\\\\sigma_{4}^{X} \\\\\\\\ \\\\end{align}', 'h_str': ['_SUM[i,0,4,wq{i}/2*(I{i}-Z{i})]', '_SUM[i,0,4,delta{i}/2*O{i}*O{i}]', '_SUM[i,0,4,-delta{i}/2*O{i}]', '_SUM[i,0,4,omegad{i}*X{i}||D{i}]', 'jq0q1*Sp0*Sm1', 'jq0q1*Sm0*Sp1', 'jq1q2*Sp1*Sm2', 'jq1q2*Sm1*Sp2', 'jq2q3*Sp2*Sm3', 'jq2q3*Sm2*Sp3', 'jq3q4*Sp3*Sm4', 'jq3q4*Sm3*Sp4', 'omegad1*X0||U0', 'omegad0*X1||U1', 'omegad2*X1||U2', 'omegad1*X2||U3', 'omegad3*X2||U4', 'omegad4*X3||U6', 'omegad2*X3||U5', 'omegad3*X4||U7'], 'osc': {}, 'qub': {'0': 3, '1': 3, '2': 3, '3': 3, '4': 3}, 'vars': {'delta0': -2.1573187977651487, 'delta1': -2.1753119475601674, 'delta2': -2.159281266514359, 'delta3': -2.158603148482815, 'delta4': -2.1495256907311115, 'jq0q1': 0.011845444218797994, 'jq1q2': 0.01196783968906386, 'jq2q3': 0.01240211395601237, 'jq3q4': 0.01218691037040823, 'omegad0': 0.958459680297847, 'omegad1': 0.9867433019584951, 'omegad2': 0.9541014919519683, 'omegad3': 0.9720864126008828, 'omegad4': 0.9836397693823058, 'wq0': 31.18206627242469, 'wq1': 30.40068638550042, 'wq2': 31.64802001669275, 'wq3': 31.10994088091767, 'wq4': 31.832842970569903}}\n",
      "    online_date: 2021-04-28 04:00:00+00:00\n",
      "    allow_object_storage: True\n",
      "    open_pulse: False\n",
      "    rep_times: [1000.0]\n",
      "    meas_map: [[0, 1, 2, 3, 4]]\n",
      "    backend_name: ibmq_manila\n",
      "    multi_meas_enabled: True\n",
      "    pulse_num_qubits: 3\n",
      "    dynamic_reprate_enabled: True\n",
      "    channels: {'acquire0': {'operates': {'qubits': [0]}, 'purpose': 'acquire', 'type': 'acquire'}, 'acquire1': {'operates': {'qubits': [1]}, 'purpose': 'acquire', 'type': 'acquire'}, 'acquire2': {'operates': {'qubits': [2]}, 'purpose': 'acquire', 'type': 'acquire'}, 'acquire3': {'operates': {'qubits': [3]}, 'purpose': 'acquire', 'type': 'acquire'}, 'acquire4': {'operates': {'qubits': [4]}, 'purpose': 'acquire', 'type': 'acquire'}, 'd0': {'operates': {'qubits': [0]}, 'purpose': 'drive', 'type': 'drive'}, 'd1': {'operates': {'qubits': [1]}, 'purpose': 'drive', 'type': 'drive'}, 'd2': {'operates': {'qubits': [2]}, 'purpose': 'drive', 'type': 'drive'}, 'd3': {'operates': {'qubits': [3]}, 'purpose': 'drive', 'type': 'drive'}, 'd4': {'operates': {'qubits': [4]}, 'purpose': 'drive', 'type': 'drive'}, 'm0': {'operates': {'qubits': [0]}, 'purpose': 'measure', 'type': 'measure'}, 'm1': {'operates': {'qubits': [1]}, 'purpose': 'measure', 'type': 'measure'}, 'm2': {'operates': {'qubits': [2]}, 'purpose': 'measure', 'type': 'measure'}, 'm3': {'operates': {'qubits': [3]}, 'purpose': 'measure', 'type': 'measure'}, 'm4': {'operates': {'qubits': [4]}, 'purpose': 'measure', 'type': 'measure'}, 'u0': {'operates': {'qubits': [0, 1]}, 'purpose': 'cross-resonance', 'type': 'control'}, 'u1': {'operates': {'qubits': [1, 0]}, 'purpose': 'cross-resonance', 'type': 'control'}, 'u2': {'operates': {'qubits': [1, 2]}, 'purpose': 'cross-resonance', 'type': 'control'}, 'u3': {'operates': {'qubits': [2, 1]}, 'purpose': 'cross-resonance', 'type': 'control'}, 'u4': {'operates': {'qubits': [2, 3]}, 'purpose': 'cross-resonance', 'type': 'control'}, 'u5': {'operates': {'qubits': [3, 2]}, 'purpose': 'cross-resonance', 'type': 'control'}, 'u6': {'operates': {'qubits': [3, 4]}, 'purpose': 'cross-resonance', 'type': 'control'}, 'u7': {'operates': {'qubits': [4, 3]}, 'purpose': 'cross-resonance', 'type': 'control'}}\n",
      "    allow_q_object: True\n",
      "    meas_kernels: ['hw_qmfk']\n",
      "    dtm: 0.2222222222222222\n",
      "    discriminators: ['hw_qmfk', 'quadratic_discriminator', 'linear_discriminator']\n",
      "    qubit_channel_mapping: [['u0', 'd0', 'u1', 'm0'], ['u3', 'u0', 'u1', 'm1', 'd1', 'u2'], ['d2', 'm2', 'u2', 'u4', 'u5', 'u3'], ['m3', 'u7', 'u6', 'u4', 'u5', 'd3'], ['u6', 'd4', 'u7', 'm4']]\n",
      "    n_registers: 1\n",
      "    measure_esp_enabled: False\n",
      "    n_uchannels: 8\n",
      "    conditional_latency: []\n",
      "    parametric_pulses: ['gaussian', 'gaussian_square', 'drag', 'constant']\n",
      "    uchannels_enabled: True\n",
      "    max_experiments: 75\n",
      "\n",
      "Qubits [Name / Freq / T1 / T2 / RZ err / SX err / X err / Readout err]\n",
      "----------------------------------------------------------------------\n",
      "    Q0 / 4.96278 GHz / 129.01354 us / 101.74870 us / 0.00000 / 0.00022 / 0.00022 / 0.02510 \n",
      "    Q1 / 4.83842 GHz / 212.80826 us / 48.67210 us / 0.00000 / 0.00025 / 0.00025 / 0.03290 \n",
      "    Q2 / 5.03694 GHz / 164.49714 us / 24.07609 us / 0.00000 / 0.00022 / 0.00022 / 0.02140 \n",
      "    Q3 / 4.95130 GHz / 157.12573 us / 73.03125 us / 0.00000 / 0.00017 / 0.00017 / 0.01800 \n",
      "    Q4 / 5.06635 GHz / 154.44051 us / 44.02548 us / 0.00000 / 0.00070 / 0.00070 / 0.04280 \n",
      "\n",
      "Multi-Qubit Gates [Name / Type / Gate Error]\n",
      "--------------------------------------------\n",
      "    cx4_3 / cx / 0.00679\n",
      "    cx3_4 / cx / 0.00679\n",
      "    cx2_3 / cx / 0.00619\n",
      "    cx3_2 / cx / 0.00619\n",
      "    cx1_2 / cx / 0.00918\n",
      "    cx2_1 / cx / 0.00918\n",
      "    cx0_1 / cx / 0.00739\n",
      "    cx1_0 / cx / 0.00739\n"
     ]
    }
   ],
   "source": [
    "IBMQ_provider = IBMQ.get_provider()\n",
    "ibmq_manila_backend = IBMQ_provider.get_backend('ibmq_manila')\n",
    "backend_monitor(ibmq_manila_backend)"
   ],
   "metadata": {
    "collapsed": false,
    "pycharm": {
     "name": "#%%\n"
    }
   }
  },
  {
   "cell_type": "markdown",
   "source": [
    "IBM의 Superconducting QPU는 CNOT 게이트를 적용할 수 있는 qubit pair (Connectivity)가 제한되어 있습니다.\n",
    "`ibmq_manila`는 다음과 같은 linear connectivity를 가지고 있습니다."
   ],
   "metadata": {
    "collapsed": false,
    "pycharm": {
     "name": "#%% md\n"
    }
   }
  },
  {
   "cell_type": "code",
   "execution_count": 18,
   "outputs": [
    {
     "data": {
      "text/plain": "<Figure size 360x360 with 1 Axes>",
      "image/png": "[encoded data removed]"
     },
     "metadata": {
      "needs_background": "light"
     },
     "output_type": "display_data"
    }
   ],
   "source": [
    "plot_gate_map(ibmq_manila_backend, plot_directed=True);"
   ],
   "metadata": {
    "collapsed": false,
    "pycharm": {
     "name": "#%%\n"
    }
   }
  },
  {
   "cell_type": "markdown",
   "source": [
    "### 2. QPU Backend 사용하기 및 회로 최적화\n",
    "\n",
    "3 qubit ghz상태를 준비하여 측정하는 회로를 구성하여 qpu backend를 사용해보겠습니다.\n",
    "\n",
    "  $$ |GHZ_3\\rangle = \\frac{1}{\\sqrt{2}} (|000\\rangle + |111\\rangle) $$\n",
    "\n",
    "\n",
    "먼저 회로를 구현합니다."
   ],
   "metadata": {
    "collapsed": false
   }
  },
  {
   "cell_type": "code",
   "execution_count": 19,
   "outputs": [
    {
     "data": {
      "text/plain": "<Figure size 534.395x264.88 with 1 Axes>",
      "image/png": "[encoded data removed]"
     },
     "metadata": {},
     "output_type": "display_data"
    }
   ],
   "source": [
    "qr = QuantumRegister(3)\n",
    "cr = ClassicalRegister(3)\n",
    "ghz3 = QuantumCircuit(qr, cr)\n",
    "ghz3.h(qr[0])\n",
    "ghz3.cx(qr[0], qr[1])\n",
    "ghz3.cx(qr[0], qr[2])\n",
    "ghz3.barrier()\n",
    "ghz3.measure(qr, cr)\n",
    "\n",
    "ghz3.draw('mpl');"
   ],
   "metadata": {
    "collapsed": false,
    "pycharm": {
     "name": "#%%\n"
    }
   }
  },
  {
   "cell_type": "markdown",
   "source": [
    "주어진 회로를 ibmq_manila_backend 를 통해 실행합니다."
   ],
   "metadata": {
    "collapsed": false,
    "pycharm": {
     "name": "#%% md\n"
    }
   }
  },
  {
   "cell_type": "code",
   "execution_count": 20,
   "outputs": [
    {
     "name": "stdout",
     "output_type": "stream",
     "text": [
      "Job Status: ERROR - The Qobj uses gates (['h']) that are not among the basis gates (['id', 'rz', 'sx', 'x', 'cx', 'reset']). Error code: 1106.\n"
     ]
    }
   ],
   "source": [
    "job_exp = ibmq_manila_backend.run(ghz3, shots=2048)\n",
    "job_monitor(job_exp) # An error must be raised here."
   ],
   "metadata": {
    "collapsed": false,
    "pycharm": {
     "name": "#%%\n"
    }
   }
  },
  {
   "cell_type": "markdown",
   "source": [
    "여기서, 에러 메세지가 출력될 것입니다. 그 이유는 manila qpu에서 Hadamard gate를 구현할 수 없기 때문입니다.\n",
    "qpu에서 물리적으로 구현 가능한 basis gate는 다음과 같이 확인할 수 있습니다."
   ],
   "metadata": {
    "collapsed": false,
    "pycharm": {
     "name": "#%% md\n"
    }
   }
  },
  {
   "cell_type": "code",
   "execution_count": 21,
   "outputs": [
    {
     "name": "stdout",
     "output_type": "stream",
     "text": [
      "['id', 'rz', 'sx', 'x', 'cx', 'reset']\n"
     ]
    }
   ],
   "source": [
    "print(ibmq_manila_backend.configuration().basis_gates)"
   ],
   "metadata": {
    "collapsed": false,
    "pycharm": {
     "name": "#%%\n"
    }
   }
  },
  {
   "cell_type": "markdown",
   "source": [
    "주어진 회로를 manila backend의 특성에 맞도록 변환하기 위해 transpile 과정을 거칩니다.\n",
    "hadamard gate가 manila backend에서 제공하는 basis gate들로 변환되었음을 확인할 수 있습니다.\n",
    "또한 connectivity에 맞게 SWAP operation이 적용되었음을 확인할 수 있습니다.\n",
    "\n",
    "transpile 과정에서 기본적으로 제공되는 과정은 다음과 같습니다.\n",
    "- Physical Qubit Layout (Connectivity)에 맞게 virtual to physical Qubit mapping\n",
    "- 회로의 모든 gate들을 Basis gate set으로 구현\n",
    "- 측정 gate 전에 barrier 삽입\n",
    "- Qubit mapping에 맞도록 SWAP gate 생성\n",
    "- SWAP gate를 3개의 CNOT gate로 분해\n",
    "- CNOT-CNOT 상쇄\n",
    "- Single qubit gate 최적화"
   ],
   "metadata": {
    "collapsed": false,
    "pycharm": {
     "name": "#%% md\n"
    }
   }
  },
  {
   "cell_type": "code",
   "execution_count": 22,
   "outputs": [
    {
     "data": {
      "text/plain": "<Figure size 901.586x385.28 with 1 Axes>",
      "image/png": "[encoded data removed]"
     },
     "metadata": {},
     "output_type": "display_data"
    }
   ],
   "source": [
    "transpiled_circuit = transpile(ghz3, backend=ibmq_manila_backend)\n",
    "transpiled_circuit.draw('mpl');"
   ],
   "metadata": {
    "collapsed": false,
    "pycharm": {
     "name": "#%%\n"
    }
   }
  },
  {
   "cell_type": "markdown",
   "source": [
    "변환된 회로에서 여기서 0번째 qubit을 중앙으로 옮긴다면 불필요한 SWAP gate를 줄일 수 있음을 확인할 수 있습니다.\n",
    "이는 `transpile`에 `optimization_level`옵션을 추가하여 자동으로 수행할 수 있습니다."
   ],
   "metadata": {
    "collapsed": false,
    "pycharm": {
     "name": "#%% md\n"
    }
   }
  },
  {
   "cell_type": "code",
   "execution_count": 23,
   "outputs": [
    {
     "data": {
      "text/plain": "<Figure size 720.84x385.28 with 1 Axes>",
      "image/png": "[encoded data removed]"
     },
     "metadata": {},
     "output_type": "display_data"
    }
   ],
   "source": [
    "transpiled_circuit_opt = transpile(ghz3, backend=ibmq_manila_backend, optimization_level=3)\n",
    "transpiled_circuit_opt.draw('mpl');"
   ],
   "metadata": {
    "collapsed": false,
    "pycharm": {
     "name": "#%%\n"
    }
   }
  },
  {
   "cell_type": "markdown",
   "source": [
    "`optimization_level`은 0 ~ 3의 정수를 입력할 수 있으며, 각 단계마다 다음의 회로 최적화 기능이 추가됩니다.\n",
    "- 0단계 : 최적화 수행하지 않음\n",
    "- 1단계(기본) : 이웃한 게이트만 소거\n",
    "- 2단계 : Noise-adaptive qubit mapping, Gate cancellation using commutativity\n",
    "- 3단계 : Heavier noise-adaptive qubit mapping, Gate cancellation using commutativity and unitary synthesis.\n",
    "\n",
    "이제 주어진 회로를 QPU에서 실행하고 결과를 확인합니다."
   ],
   "metadata": {
    "collapsed": false,
    "pycharm": {
     "name": "#%% md\n"
    }
   }
  },
  {
   "cell_type": "code",
   "execution_count": 24,
   "outputs": [
    {
     "name": "stdout",
     "output_type": "stream",
     "text": [
      "Job Status: job has successfully run                       \n"
     ]
    }
   ],
   "source": [
    "job_exp = ibmq_manila_backend.run(transpiled_circuit_opt, shots=2048)\n",
    "job_monitor(job_exp)"
   ],
   "metadata": {
    "collapsed": false,
    "pycharm": {
     "name": "#%%\n"
    }
   }
  },
  {
   "cell_type": "code",
   "execution_count": 25,
   "outputs": [
    {
     "data": {
      "text/plain": "<Figure size 504x360 with 1 Axes>",
      "image/png": "[encoded data removed]"
     },
     "metadata": {
      "needs_background": "light"
     },
     "output_type": "display_data"
    }
   ],
   "source": [
    "noisy_counts = job_exp.result().get_counts()\n",
    "plot_histogram(noisy_counts);"
   ],
   "metadata": {
    "collapsed": false,
    "pycharm": {
     "name": "#%%\n"
    }
   }
  },
  {
   "cell_type": "markdown",
   "source": [
    "Ideal simulation을 수행하고, fidelity를 확인합니다."
   ],
   "metadata": {
    "collapsed": false,
    "pycharm": {
     "name": "#%% md\n"
    }
   }
  },
  {
   "cell_type": "code",
   "execution_count": 26,
   "outputs": [
    {
     "name": "stdout",
     "output_type": "stream",
     "text": [
      "0.9023008480548862\n"
     ]
    }
   ],
   "source": [
    "qasm_backend = AerProvider().get_backend('qasm_simulator')\n",
    "job_ideal = qasm_backend.run(ghz3, shots=2048)\n",
    "ideal_counts = job_ideal.result().get_counts()\n",
    "\n",
    "print(hellinger_fidelity(noisy_counts, ideal_counts))"
   ],
   "metadata": {
    "collapsed": false,
    "pycharm": {
     "name": "#%%\n"
    }
   }
  },
  {
   "cell_type": "markdown",
   "source": [
    "### 3. Fake Backend 사용하기\n",
    "Fake backend를 활용하면 IBM QPU의 특성 및 노이즈 모델 등에 대한 정보를 불러와 시뮬레이션을 수행 할 수 있다.\n",
    "ibmq_rome QPU에 해당하는 fake backend를 불러옵니다."
   ],
   "metadata": {
    "collapsed": false,
    "pycharm": {
     "name": "#%% md\n"
    }
   }
  },
  {
   "cell_type": "code",
   "execution_count": 30,
   "outputs": [],
   "source": [
    "from qiskit.test.mock import FakeRome\n",
    "\n",
    "fake_rome = FakeRome()"
   ],
   "metadata": {
    "collapsed": false,
    "pycharm": {
     "name": "#%%\n"
    }
   }
  },
  {
   "cell_type": "markdown",
   "source": [
    "ghz3 회로를 fake_rome에서 실행합니다. 이상적인 결과에 비해 노이즈가 있음을 확인할 수 있습니다."
   ],
   "metadata": {
    "collapsed": false,
    "pycharm": {
     "name": "#%% md\n"
    }
   }
  },
  {
   "cell_type": "code",
   "source": [
    "rome_transpiled = transpile(ghz3, backend=fake_rome, optimization_level=3)\n",
    "job_fake_rome = fake_rome.run(rome_transpiled, shots=2048)\n",
    "counts_fake_rome = job_fake_rome.result().get_counts()\n",
    "plot_histogram(counts_fake_rome);"
   ],
   "metadata": {
    "collapsed": false,
    "pycharm": {
     "name": "#%%\n"
    }
   },
   "execution_count": 28,
   "outputs": [
    {
     "data": {
      "text/plain": "<Figure size 504x360 with 1 Axes>",
      "image/png": "[encoded data removed]"
     },
     "metadata": {
      "needs_background": "light"
     },
     "output_type": "display_data"
    }
   ]
  }
 ],
 "metadata": {
  "kernelspec": {
   "display_name": "Python 3",
   "language": "python",
   "name": "python3"
  },
  "language_info": {
   "codemirror_mode": {
    "name": "ipython",
    "version": 2
   },
   "file_extension": ".py",
   "mimetype": "text/x-python",
   "name": "python",
   "nbconvert_exporter": "python",
   "pygments_lexer": "ipython2",
   "version": "2.7.6"
  }
 },
 "nbformat": 4,
 "nbformat_minor": 0
}