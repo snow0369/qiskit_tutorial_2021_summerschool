{
 "cells": [
  {
   "cell_type": "markdown",
   "metadata": {
    "collapsed": true,
    "pycharm": {
     "name": "#%% md\n"
    }
   },
   "source": [
    "# 1. Hello Qiskit (A Quick Introduction)\n",
    "\n",
    "Author : [Gwonhak Lee](https://github.com/snow0369) (gwonhak@gmail.com)\n",
    "\n",
    "\n",
    "-----\n",
    "\n",
    " Qiskit 활용의 간단한 예시로써, Bell 상태 측정에 대한 회로를 구현하고, CPU를 이용한 양자회로 시뮬레이션을 수행합니다.\n",
    "\n",
    "\n",
    "$ | \\text{Bell}_{00}\\rangle = \\frac {1} {\\sqrt{2}} (| 00 \\rangle + | 11 \\rangle $)\n",
    "\n",
    "기본적인 qiskit 개발의 단계는 다음과 같이 생각할 수 있습니다.\n",
    "\n",
    "1. 양자회로 구성\n",
    "    1. 객체의 선언 (qubits, classical bits, quantum circuit)\n",
    "    2. 게이트를 적용하여 회로 구성\n",
    "\n",
    "2. 양자회로 실행\n",
    "    1. 양자실험 (시뮬레이션 혹은 실제 양자프로세서)\n",
    "    2. 결과 획득 및 시각화\n",
    "\n",
    "각 단계에 대한 예시를 구체적으로 살펴보도록 하겠습니다.\n",
    "\n",
    "### 0. 필요한 요소 불러오기\n",
    "\n",
    " 먼저 필요한 Package를 불러옵니다."
   ]
  },
  {
   "cell_type": "code",
   "execution_count": 7,
   "metadata": {
    "pycharm": {
     "name": "#%%\n"
    }
   },
   "outputs": [],
   "source": [
    "from qiskit import QuantumCircuit, QuantumRegister, ClassicalRegister\n",
    "from qiskit.providers.aer import AerProvider\n",
    "from qiskit import execute"
   ]
  },
  {
   "cell_type": "markdown",
   "metadata": {
    "pycharm": {
     "name": "#%% md\n"
    }
   },
   "source": [
    "### 1-1. 양자회로 구현을 위한 객체 선언\n",
    "\n",
    " 다음으로, 회로 구현에 필요한 양자 및 고전 bit 레지스터(저장공간)와 양자회로를 선언합니다.\n",
    "\n",
    " Bell state를 구현하기 위해 2개의 qubit과, 이를 측정하는 2개의 Classical bit,\n",
    " 그리고 이들을 포함하는 양자회로를 선언합니다."
   ]
  },
  {
   "cell_type": "code",
   "execution_count": 8,
   "metadata": {
    "pycharm": {
     "name": "#%%\n"
    }
   },
   "outputs": [],
   "source": [
    "qr = QuantumRegister(2) # 2 qubits\n",
    "cr = ClassicalRegister(2) # 2 classical bits\n",
    "qc = QuantumCircuit(qr, cr) # a quantum circuit with 2 qubits and 2 bits"
   ]
  },
  {
   "cell_type": "markdown",
   "metadata": {
    "pycharm": {
     "name": "#%% md\n"
    }
   },
   "source": [
    "다음으로, 선언한 양자회로를 출력하여 확인합니다.\n",
    "\n",
    "(아직 어떠한 게이트도 놓지 않았기 때문에 빈 회로가 출력됩니다.)"
   ]
  },
  {
   "cell_type": "code",
   "execution_count": 9,
   "metadata": {
    "pycharm": {
     "name": "#%%\n"
    }
   },
   "outputs": [
    {
     "data": {
      "text/html": [
       "<pre style=\"word-wrap: normal;white-space: pre;background: #fff0;line-height: 1.1;font-family: &quot;Courier New&quot;,Courier,monospace\">       \n",
       "q12_0: \n",
       "       \n",
       "q12_1: \n",
       "       \n",
       " c1: 2/\n",
       "       </pre>"
      ],
      "text/plain": [
       "       \n",
       "q12_0: \n",
       "       \n",
       "q12_1: \n",
       "       \n",
       " c1: 2/\n",
       "       "
      ]
     },
     "execution_count": 9,
     "metadata": {},
     "output_type": "execute_result"
    }
   ],
   "source": [
    "qc.draw()"
   ]
  },
  {
   "cell_type": "markdown",
   "metadata": {
    "pycharm": {
     "name": "#%% md\n"
    }
   },
   "source": [
    "### 1-2. Bell 회로 구성\n",
    "\n",
    " 다음 식과 같은 순서로 양자연산을 수행하여 Bell상태를 준비하는 회로를 구현합니다.\n",
    "\n",
    " ![Bell state prep](https://github.com/snow0369/qiskit_tutorial_2021_summerschool/raw/master/figures/bell_state_prep.png)\n",
    "\n",
    " 0번째 qubit에 hadamard 연산과 0번째, 1번째 qubit에 cnot 연산을 취한 뒤, 측정하여 `cr`에 저장합니다.\n",
    "\n",
    "- 초기에 모든 qubit은 $|0\\rangle$ 상태로 준비되어있습니다.\n",
    "- 회로를 출력할 때, `'mpl'` 옵션을 넣어 텍스트가 아닌 그림 형태로 출력할 수 있습니다.\n",
    "- 활용할 수 있는 gate의 종류는 [qiskit document](https://qiskit.org/documentation/tutorials/circuits/3_summary_of_quantum_operations.html)\n",
    "에서 확인할 수 있습니다.\n",
    "https://qiskit.org/documentation/tutorials/circuits/3_summary_of_quantum_operations.html"
   ]
  },
  {
   "cell_type": "code",
   "execution_count": 10,
   "metadata": {
    "pycharm": {
     "name": "#%%\n"
    }
   },
   "outputs": [
    {
     "data": {
      "image/png": "[encoded data removed]",
      "text/plain": [
       "<Figure size 491.18x284.278 with 1 Axes>"
      ]
     },
     "execution_count": 10,
     "metadata": {},
     "output_type": "execute_result"
    }
   ],
   "source": [
    "qc.h(qr[0]) # 0번째 qubit에 hadamard 연산을 취합니다.\n",
    "qc.cx(qr[0], qr[1]) # 0번째 qubit을 control, 1번째 qubit를 target으로 하는 CNOT 연산을 취합니다.\n",
    "qc.measure(qr, cr) # qr을 측정하여 cr에 저장하는 측정 연산을 취합니다.\n",
    "\n",
    "qc.draw('mpl') # 완성된 회로를 출력합니다."
   ]
  },
  {
   "cell_type": "markdown",
   "metadata": {
    "pycharm": {
     "name": "#%% md\n"
    }
   },
   "source": [
    "### 2-1. QASM 시뮬레이션\n",
    "\n",
    "backend는 양자회로를 실행하기 위한 시뮬레이터 또는 실제 양자 프로세서입니다.\n",
    "앞서 구성한 회로를 시뮬레이션 하기위해 먼저 qasm simulator backend를 불러옵니다.\n",
    "\n",
    "- `AerProvider()`는 Local PC를 이용하는 시뮬레이션 backend를 제공합니다. [(2번째 튜토리얼)](./2_simulators.ipynb)\n",
    "- `IBMQProvider()`는 IBM의 양자 프로세서 또는 고성능 클라우드를 이용한 시뮬레이션 backend를 제공합니다. [(3번째 튜토리얼)](./3_running_on_IBMQ.ipynb)\n",
    "- `FakeProvider()`는 IBM의 양자 프로세서의 특성(qubit connectivity, noise model 등)을 반영한 Local 시뮬레이션 backend를 제공합니다."
   ]
  },
  {
   "cell_type": "code",
   "execution_count": 11,
   "metadata": {
    "pycharm": {
     "name": "#%%\n"
    }
   },
   "outputs": [],
   "source": [
    "qasm_simulator = AerProvider().get_backend('qasm_simulator')"
   ]
  },
  {
   "cell_type": "markdown",
   "metadata": {
    "pycharm": {
     "name": "#%% md\n"
    }
   },
   "source": [
    "다음으로, 실험을 진행하고 결과값을 얻습니다.\n",
    "\n",
    "QASM 시뮬레이터에서는 실제 양자프로세서와 같이 `shots = 2048`에 해당하는 횟수의 동일한 양자실험을 반복하여 결과의 횟수\n",
    "를 확인할 수 있습니다.\n",
    "\n",
    "`get_counts()`를 통해 얻은 실험결과는 python의 기본 자료구조인 dictionary(`Dict[str, int]`)의 형태로,\n",
    "Pauli-Z(Computational) basis에서 측정된 bitstring을 key로 하고 outcome의 횟수를 value로 합니다.\n",
    "\n",
    "앞선 Bell State를 나타내는 식에서, $|00\\rangle$상태와 $|11\\rangle$ 이 동일한 확률로 관측될 것으로 예상되고\n",
    "이를 확인할 수 있습니다.\n",
    "\n",
    "- 양자회로를 실행하기 위한 방법으로는 `execute()`, `backend.run()` 그리고 `QuantumInstance`를 이용하는 방법 등이 있습니다."
   ]
  },
  {
   "cell_type": "code",
   "execution_count": 12,
   "metadata": {
    "pycharm": {
     "name": "#%%\n"
    }
   },
   "outputs": [
    {
     "name": "stdout",
     "output_type": "stream",
     "text": [
      "Bell measurement result\n",
      "11 984\n",
      "00 1064\n"
     ]
    }
   ],
   "source": [
    "job_qasm = execute(qc, backend=qasm_simulator, shots=2048)\n",
    "\n",
    "# 다른 방법\n",
    "# job_qasm = qasm_simulator.run(qc, shots=2048)\n",
    "#\n",
    "# 또는\n",
    "#\n",
    "# from qiskit.utils import QuantumInstance\n",
    "# qi = QuantumInstance(qasm_simulator, shots=2048)\n",
    "# result = qi.execute(qc)\n",
    "# counts = result.get_counts()\n",
    "\n",
    "counts = job_qasm.result().get_counts()\n",
    "\n",
    "print(\"Bell measurement result\")\n",
    "for k, v in counts.items():\n",
    "    print(k, v)"
   ]
  },
  {
   "cell_type": "markdown",
   "metadata": {
    "pycharm": {
     "name": "#%% md\n"
    }
   },
   "source": [
    "얻은 결과를 다음과 같이 시각화 할 수도 있습니다."
   ]
  },
  {
   "cell_type": "code",
   "execution_count": 13,
   "metadata": {
    "pycharm": {
     "name": "#%%\n"
    }
   },
   "outputs": [
    {
     "data": {
      "image/png": "[encoded data removed]",
      "text/plain": [
       "<Figure size 700x500 with 1 Axes>"
      ]
     },
     "execution_count": 13,
     "metadata": {},
     "output_type": "execute_result"
    }
   ],
   "source": [
    "from qiskit.visualization import plot_histogram\n",
    "plot_histogram(counts)"
   ]
  }
 ],
 "metadata": {
  "kernelspec": {
   "display_name": "PyCharm (qiskit_tutorial_2021_summerschool)",
   "language": "python",
   "name": "pycharm-1c28096b"
  },
  "language_info": {
   "codemirror_mode": {
    "name": "ipython",
    "version": 3
   },
   "file_extension": ".py",
   "mimetype": "text/x-python",
   "name": "python",
   "nbconvert_exporter": "python",
   "pygments_lexer": "ipython3",
   "version": "3.8.11"
  }
 },
 "nbformat": 4,
 "nbformat_minor": 1
}
