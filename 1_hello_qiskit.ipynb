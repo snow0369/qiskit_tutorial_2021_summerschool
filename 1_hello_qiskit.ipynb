{
 "cells": [
  {
   "cell_type": "markdown",
   "metadata": {
    "collapsed": true,
    "pycharm": {
     "name": "#%% md\n"
    }
   },
   "source": [
    "# 1. Hello Qiskit (A Quick Introduction)\n",
    "\n",
    "Author : [Gwonhak Lee](https://github.com/snow0369) (gwonhak@gmail.com)\n",
    "\n",
    "\n",
    "-----\n",
    "\n",
    " Qiskit 활용의 간단한 예시로써, Bell 상태 측정에 대한 회로를 구현하고, CPU를 이용한 양자회로 시뮬레이션을 수행합니다.\n",
    "\n",
    "\n",
    "$ | \\text{Bell}_{00}\\rangle = \\frac {1} {\\sqrt{2}} (| 00 \\rangle + | 11 \\rangle $)\n",
    "\n",
    "기본적인 qiskit 개발의 단계는 다음과 같이 생각할 수 있습니다.\n",
    "\n",
    "1. 양자회로 구성\n",
    "    1. 객체의 선언 (qubits, classical bits, quantum circuit)\n",
    "    2. 게이트를 적용하여 회로 구성\n",
    "\n",
    "2. 양자회로 실행\n",
    "    1. 양자실험 (시뮬레이션 혹은 실제 양자프로세서)\n",
    "    2. 결과 획득 및 시각화\n",
    "\n",
    "각 단계에 대한 예시를 구체적으로 살펴보도록 하겠습니다.\n",
    "\n",
    "### 0. 필요한 요소 불러오기\n",
    "\n",
    " 먼저 필요한 Package를 불러옵니다."
   ]
  },
  {
   "cell_type": "code",
   "execution_count": 1,
   "outputs": [],
   "source": [
    "from qiskit import QuantumCircuit, QuantumRegister, ClassicalRegister\n",
    "from qiskit.providers.aer import AerProvider\n",
    "from qiskit import execute"
   ],
   "metadata": {
    "collapsed": false,
    "pycharm": {
     "name": "#%%\n"
    }
   }
  },
  {
   "cell_type": "markdown",
   "source": [
    "### 1-1. 양자회로 구현을 위한 객체 선언\n",
    "\n",
    " 다음으로, 회로 구현에 필요한 양자 및 고전 bit registers(저장공간)와 양자회로를 선언합니다.\n",
    "\n",
    " Bell state를 구현하기 위해 2개의 qubit, `qr`과, 이를 측정하는 2개의 Classical bit `cr`,\n",
    " 그리고 이들을 포함하는 양자회로 `qc`를 선언합니다."
   ],
   "metadata": {
    "collapsed": false,
    "pycharm": {
     "name": "#%% md\n"
    }
   }
  },
  {
   "cell_type": "code",
   "execution_count": 2,
   "outputs": [],
   "source": [
    "qr = QuantumRegister(2) # 2 qubits\n",
    "cr = ClassicalRegister(2) # 2 classical bits\n",
    "qc = QuantumCircuit(qr, cr) # a quantum circuit with 2 qubits and 2 bits"
   ],
   "metadata": {
    "collapsed": false,
    "pycharm": {
     "name": "#%%\n"
    }
   }
  },
  {
   "cell_type": "markdown",
   "source": [
    "다음으로, 선언한 양자회로를 출력하여 확인합니다.\n",
    "\n",
    "(아직 어떠한 게이트도 놓지 않았기 때문에 빈 회로가 출력됩니다.)"
   ],
   "metadata": {
    "collapsed": false,
    "pycharm": {
     "name": "#%% md\n"
    }
   }
  },
  {
   "cell_type": "code",
   "execution_count": 3,
   "outputs": [
    {
     "data": {
      "text/plain": "      \nq0_0: \n      \nq0_1: \n      \nc0: 2/\n      ",
      "text/html": "<pre style=\"word-wrap: normal;white-space: pre;background: #fff0;line-height: 1.1;font-family: &quot;Courier New&quot;,Courier,monospace\">      \nq0_0: \n      \nq0_1: \n      \nc0: 2/\n      </pre>"
     },
     "execution_count": 3,
     "metadata": {},
     "output_type": "execute_result"
    }
   ],
   "source": [
    "qc.draw()"
   ],
   "metadata": {
    "collapsed": false,
    "pycharm": {
     "name": "#%%\n"
    }
   }
  },
  {
   "cell_type": "markdown",
   "source": [
    "### 1-2. Bell 회로 구성\n",
    "\n",
    "Bell상태를 준비하는 회로를 구현합니다.\n",
    " 0번째 qubit에 hadamard 연산과 0번째, 1번째 qubit에 cnot 연산을 취한 뒤, 측정하여 `cr`에 저장합니다.\n",
    "\n",
    "- 초기에 모든 qubit은 $|0\\rangle$ 상태로 준비되어있습니다.\n",
    "- 회로를 출력할 때, `'mpl'` 옵션을 넣어 텍스트가 아닌 그림 형태로 출력할 수 있습니다."
   ],
   "metadata": {
    "collapsed": false,
    "pycharm": {
     "name": "#%% md\n"
    }
   }
  },
  {
   "cell_type": "code",
   "execution_count": 4,
   "outputs": [
    {
     "data": {
      "text/plain": "<Figure size 340.233x204.68 with 1 Axes>",
      "image/png": "[encoded data removed]"
     },
     "execution_count": 4,
     "metadata": {},
     "output_type": "execute_result"
    },
    {
     "data": {
      "text/plain": "<Figure size 340.233x204.68 with 1 Axes>",
      "image/png": "[encoded data removed]"
     },
     "metadata": {},
     "output_type": "display_data"
    }
   ],
   "source": [
    "qc.h(qr[0]) # 0번째 qubit에 hadamard 연산을 취합니다.\n",
    "qc.cx(qr[0], qr[1]) # 0번째 qubit을 control, 1번째 qubit를 target으로 하는 CNOT 연산을 취합니다.\n",
    "qc.measure(qr, cr) # qr을 측정하여 cr에 저장하는 측정 연산을 취합니다.\n",
    "\n",
    "qc.draw('mpl') # 완성된 회로를 출력합니다."
   ],
   "metadata": {
    "collapsed": false,
    "pycharm": {
     "name": "#%%\n"
    }
   }
  },
  {
   "cell_type": "markdown",
   "source": [
    "### 2-1. QASM 시뮬레이션\n",
    "\n",
    "앞서 구성한 양자회로를 실행하기 위한 backend를 지정합니다. 지금은 QASM(Quantum Assembly Language) 시뮬레이션을 이용하여 실험하고,\n",
    "[다음 튜토리얼](./2_simulators.ipynb)에서 다른 simulation backend를 실험할 것입니다.\n",
    "\n",
    "먼저 qasm simulator backend를 불러옵니다."
   ],
   "metadata": {
    "collapsed": false,
    "pycharm": {
     "name": "#%% md\n"
    }
   }
  },
  {
   "cell_type": "code",
   "execution_count": 5,
   "outputs": [],
   "source": [
    "qasm_simulator = AerProvider().get_backend('qasm_simulator')"
   ],
   "metadata": {
    "collapsed": false,
    "pycharm": {
     "name": "#%%\n"
    }
   }
  },
  {
   "cell_type": "markdown",
   "source": [
    "다음으로, 실험을 진행하고 결과값을 얻습니다.\n",
    "\n",
    "QASM 시뮬레이터에서는 실제 양자프로세서와 같이 `shots = 2048`에 해당하는 횟수의 동일한 양자실험을 반복하여 결과의 횟수\n",
    "를 확인할 수 있습니다.\n",
    "\n",
    "`get_counts()`를 통해 얻은 실험결과는 python의 기본 자료구조인 dictionary(`Dict[str, int]`)의 형태로,\n",
    "Pauli-Z(Computational) basis에서 측정된 bitstring을 key로 하고 outcome의 횟수를 value로 합니다.\n",
    "\n",
    "앞선 Bell State를 나타내는 식에서, $|00\\rangle$상태와 $|11\\rangle$ 이 동일한 확률로 관측될 것으로 예상되고\n",
    "이를 확인할 수 있습니다."
   ],
   "metadata": {
    "collapsed": false,
    "pycharm": {
     "name": "#%% md\n"
    }
   }
  },
  {
   "cell_type": "code",
   "execution_count": 6,
   "outputs": [
    {
     "name": "stdout",
     "output_type": "stream",
     "text": [
      "Bell measurement result\n",
      "00 1015\n",
      "11 1033\n"
     ]
    }
   ],
   "source": [
    "job_qasm = execute(qc, backend=qasm_simulator, shots=2048)\n",
    "counts = job_qasm.result().get_counts()\n",
    "\n",
    "print(\"Bell measurement result\")\n",
    "for i, v in counts.items():\n",
    "    print(i, v)"
   ],
   "metadata": {
    "collapsed": false,
    "pycharm": {
     "name": "#%%\n"
    }
   }
  },
  {
   "cell_type": "markdown",
   "source": [
    "얻은 결과를 다음과 같이 시각화 할 수도 있습니다."
   ],
   "metadata": {
    "collapsed": false,
    "pycharm": {
     "name": "#%% md\n"
    }
   }
  },
  {
   "cell_type": "code",
   "execution_count": 7,
   "outputs": [
    {
     "data": {
      "text/plain": "<Figure size 504x360 with 1 Axes>",
      "image/png": "[encoded data removed]"
     },
     "execution_count": 7,
     "metadata": {},
     "output_type": "execute_result"
    },
    {
     "data": {
      "text/plain": "<Figure size 504x360 with 1 Axes>",
      "image/png": "[encoded data removed]"
     },
     "metadata": {
      "needs_background": "light"
     },
     "output_type": "display_data"
    }
   ],
   "source": [
    "from qiskit.visualization import plot_histogram\n",
    "plot_histogram(counts)\n"
   ],
   "metadata": {
    "collapsed": false,
    "pycharm": {
     "name": "#%%\n"
    }
   }
  },
  {
   "cell_type": "markdown",
   "source": [
    " 지금까지 간단한 Bell 상태를 나타내는 양자회로를 구현하고 QASM 시뮬레이터를 통해 실험을 수행하였습니다.\n",
    "\n",
    " 이어서 다음 연습문제를 해결해보도록 하겠습니다.\n",
    "\n",
    "### Exercise. GHZ 상태 측정\n",
    "  Qubit 3개에 다음과 같은 GHZ 상태를 준비하고, 측정하는 회로를 구성하고, histogram을 출력합니다.\n",
    "\n",
    "  $$ |GHZ_3\\rangle = \\frac{1}{\\sqrt{2}} (|000\\rangle + |111\\rangle) $$"
   ],
   "metadata": {
    "collapsed": false,
    "pycharm": {
     "name": "#%% md\n"
    }
   }
  },
  {
   "cell_type": "code",
   "execution_count": null,
   "outputs": [],
   "source": [
    "# 객체의 선언\n",
    "# qr_ghz_3 = QuantumRegister(?)\n",
    "# cr_ghz_3 = ClassicalRegister(?)\n",
    "# qc_ghz_3 = QuantumCircuit(?, ?)\n",
    "\n",
    "# 회로 구성\n",
    "# qc_ghz_3.?\n",
    "# ...\n",
    "\n",
    "# 회로 출력\n",
    "# qc_ghz_3.draw('mpl')"
   ],
   "metadata": {
    "collapsed": false,
    "pycharm": {
     "name": "#%%\n"
    }
   }
  },
  {
   "cell_type": "code",
   "execution_count": null,
   "outputs": [],
   "source": [
    "# qasm 시뮬레이션\n",
    "# job_ghz_3_qasm = execute(qc_ghz_3, backend=qasm_simulator, shots=1024)\n",
    "# counts = job_ghz_3_qasm.result().get_counts()\n",
    "\n",
    "# 시각화\n",
    "# plot_histogram(counts)"
   ],
   "metadata": {
    "collapsed": false,
    "pycharm": {
     "name": "#%%\n"
    }
   }
  }
 ],
 "metadata": {
  "kernelspec": {
   "display_name": "Python 3",
   "language": "python",
   "name": "python3"
  },
  "language_info": {
   "codemirror_mode": {
    "name": "ipython",
    "version": 2
   },
   "file_extension": ".py",
   "mimetype": "text/x-python",
   "name": "python",
   "nbconvert_exporter": "python",
   "pygments_lexer": "ipython2",
   "version": "2.7.6"
  }
 },
 "nbformat": 4,
 "nbformat_minor": 0
}