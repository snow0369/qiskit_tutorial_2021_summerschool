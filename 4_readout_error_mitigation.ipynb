{
 "cells": [
  {
   "cell_type": "markdown",
   "metadata": {
    "collapsed": true,
    "pycharm": {
     "name": "#%% md\n"
    }
   },
   "source": [
    "# 4. Readout Error Mitigation\n",
    "\n",
    "Author : [Gwonhak Lee](https://github.com/snow0369) (gwonhak@gmail.com)\n",
    "\n",
    "-----\n",
    " 다음으로, Noisy backend에서 Read-out error를 보정할 수 있는 방법에 대해 살펴보겠습니다.\n",
    " Read-out error는 가장 간단하게 보정할 수 있는 noise 요소입니다.\n",
    "\n",
    "(다른 advanced error mitigation 방법을 사용하기 위해서는 `mitiq`([github](https://github.com/unitaryfund/mitiq), [arXiv:2009.04417](https://arxiv.org/abs/2009.04417))\n",
    " 라이브러리를 활용 할 수 있습니다.)"
   ]
  },
  {
   "cell_type": "code",
   "execution_count": 39,
   "metadata": {
    "pycharm": {
     "name": "#%%\n"
    }
   },
   "outputs": [],
   "source": [
    "import numpy as np\n",
    "from qiskit import QuantumCircuit, QuantumRegister, ClassicalRegister\n",
    "from qiskit.test.mock import FakeRome\n",
    "from qiskit.providers.aer import AerProvider\n",
    "from qiskit.quantum_info import hellinger_fidelity\n"
   ]
  },
  {
   "cell_type": "markdown",
   "metadata": {
    "pycharm": {
     "name": "#%% md\n"
    }
   },
   "source": [
    "### 1-1. Read-out Error\n",
    "Read-out error는 measurement 단계에서 나타나는 에러로써, 다음과 같이 준비된 $|0\\rangle$ 또는 $|1\\rangle$ 상태에 대해 반대로 측정되는\n",
    "경우에 해당합니다.\n",
    "\n",
    "![readout_error](https://github.com/snow0369/qiskit_tutorial_2021_summerschool/raw/master/figures/readout_error.png)"
   ]
  },
  {
   "cell_type": "markdown",
   "metadata": {
    "pycharm": {
     "name": "#%% md\n"
    }
   },
   "source": [
    "Readout Error가 있을 때 실험을 통해 측정된 분포는 다음 식과 같이 주어집니다.\n",
    "\n",
    "![readout_error_eq](https://github.com/snow0369/qiskit_tutorial_2021_summerschool/raw/master/figures/readout_error_eq.png)\n",
    "\n",
    "여기서 측정 gate의 readout error 확률, $\\Pr(\\text{m|p})$을 알고 있다면, 측정된 결과의 분포$\\Pr(\\text{p})$로부터\n",
    "readout error가 제거된 분포 $\\Pr(\\text{p})$를 알 수 있습니다.\n",
    "\n",
    "$$ \\overrightarrow{\\Pr}(\\text{Meas}) = \\textbf{M} \\overrightarrow{\\Pr}(\\text{Prep}) $$\n",
    "\n",
    "$$ \\overrightarrow{\\Pr}(\\text{Prep}) = \\textbf{M}^{-1} \\overrightarrow{\\Pr}(\\text{Meas}) $$\n",
    "\n",
    "\n",
    "이 과정을 구현해보도록 하겠습니다.\n",
    "\n",
    "### 2. Readout Error Mitigation (Without tools)\n",
    "\n",
    "먼저 실험 대상으로, 다음 Bell state 회로를 준비하여 사용하겠습니다."
   ]
  },
  {
   "cell_type": "code",
   "execution_count": 40,
   "metadata": {
    "pycharm": {
     "name": "#%%\n"
    }
   },
   "outputs": [
    {
     "data": {
      "image/png": "[encoded data removed]",
      "text/plain": [
       "<Figure size 556.358x284.278 with 1 Axes>"
      ]
     },
     "execution_count": 40,
     "metadata": {},
     "output_type": "execute_result"
    }
   ],
   "source": [
    "qr = QuantumRegister(2)\n",
    "cr = ClassicalRegister(2)\n",
    "qc = QuantumCircuit(qr, cr)\n",
    "\n",
    "qc.h(0)\n",
    "qc.cx(0,1)\n",
    "qc.barrier()\n",
    "qc.measure(qr, cr)\n",
    "\n",
    "qc.draw('mpl')"
   ]
  },
  {
   "cell_type": "markdown",
   "metadata": {
    "pycharm": {
     "name": "#%% md\n"
    }
   },
   "source": [
    "위 회로에 대하여 fake backend를 이용한 시뮬레이션을 실행하여 분포$\\Pr(m)$를 구해보겠습니다."
   ]
  },
  {
   "cell_type": "code",
   "execution_count": 41,
   "metadata": {
    "pycharm": {
     "name": "#%%\n"
    }
   },
   "outputs": [
    {
     "name": "stdout",
     "output_type": "stream",
     "text": [
      "{'00': 1889, '11': 1940, '01': 119, '10': 148}\n",
      "[0.46118164 0.02905273 0.03613281 0.47363281]\n"
     ]
    }
   ],
   "source": [
    "num_shots = 4096\n",
    "\n",
    "fake_rome = FakeRome()\n",
    "job_fake_rome = fake_rome.run(qc, shots=4096)\n",
    "result_fake_rome = job_fake_rome.result()\n",
    "counts_fake_rome = result_fake_rome.get_counts()\n",
    "\n",
    "print(counts_fake_rome)\n",
    "pr_m = np.zeros(4, dtype=float)\n",
    "for b, v in counts_fake_rome.items():\n",
    "    pr_m[int(b, base=2)] = v/num_shots\n",
    "print(pr_m)"
   ]
  },
  {
   "cell_type": "markdown",
   "metadata": {
    "pycharm": {
     "name": "#%% md\n"
    }
   },
   "source": [
    "read out error $\\Pr(m|p)$를 측정하기 위해 다음과 같이 모든 computational basis에 대해 상태를 준비하여 실험을 수행합니다."
   ]
  },
  {
   "cell_type": "code",
   "execution_count": 42,
   "metadata": {
    "pycharm": {
     "name": "#%%\n"
    }
   },
   "outputs": [
    {
     "name": "stdout",
     "output_type": "stream",
     "text": [
      "[[0.95996094 0.03808594 0.03833008 0.0012207 ]\n",
      " [0.01977539 0.93725586 0.00024414 0.03100586]\n",
      " [0.02001953 0.0012207  0.93554688 0.03198242]\n",
      " [0.00024414 0.0234375  0.02587891 0.93579102]]\n"
     ]
    }
   ],
   "source": [
    "pr_m_p = np.zeros((4,4), dtype=float)\n",
    "\n",
    "qr_mit = QuantumRegister(2)\n",
    "cr_mit = ClassicalRegister(2)\n",
    "\n",
    "# state prep = 00\n",
    "qc_00 = QuantumCircuit(qr_mit, cr_mit)\n",
    "qc_00.barrier()\n",
    "qc_00.measure(qr_mit, cr_mit)\n",
    "counts_00 = fake_rome.run(qc_00, shots=num_shots)\\\n",
    "    .result().get_counts()\n",
    "\n",
    "pr_m_p[0][0] = counts_00['00']/num_shots if '00' in counts_00 else 0.0\n",
    "pr_m_p[1][0] = counts_00['01']/num_shots if '01' in counts_00 else 0.0\n",
    "pr_m_p[2][0] = counts_00['10']/num_shots if '10' in counts_00 else 0.0\n",
    "pr_m_p[3][0] = counts_00['11']/num_shots if '11' in counts_00 else 0.0\n",
    "\n",
    "\n",
    "# state prep = 01\n",
    "qc_01 = QuantumCircuit(qr_mit, cr_mit)\n",
    "\n",
    "qc_01.x(0)\n",
    "\n",
    "qc_01.barrier()\n",
    "qc_01.measure(qr_mit, cr_mit)\n",
    "counts_01 = fake_rome.run(qc_01, shots=num_shots)\\\n",
    "    .result().get_counts()\n",
    "\n",
    "pr_m_p[0][1] = counts_01['00']/num_shots if '00' in counts_01 else 0.0\n",
    "pr_m_p[1][1] = counts_01['01']/num_shots if '01' in counts_01 else 0.0\n",
    "pr_m_p[2][1] = counts_01['10']/num_shots if '10' in counts_01 else 0.0\n",
    "pr_m_p[3][1] = counts_01['11']/num_shots if '11' in counts_01 else 0.0\n",
    "\n",
    "\n",
    "# state prep = 10\n",
    "qc_10 = QuantumCircuit(qr_mit, cr_mit)\n",
    "\n",
    "qc_10.x(1)\n",
    "\n",
    "qc_10.barrier()\n",
    "qc_10.measure(qr_mit, cr_mit)\n",
    "counts_10 = fake_rome.run(qc_10, shots=num_shots)\\\n",
    "    .result().get_counts()\n",
    "\n",
    "pr_m_p[0][2] = counts_10['00']/num_shots if '00' in counts_10 else 0.0\n",
    "pr_m_p[1][2] = counts_10['01']/num_shots if '01' in counts_10 else 0.0\n",
    "pr_m_p[2][2] = counts_10['10']/num_shots if '10' in counts_10 else 0.0\n",
    "pr_m_p[3][2] = counts_10['11']/num_shots if '11' in counts_10 else 0.0\n",
    "\n",
    "\n",
    "# state prep = 11\n",
    "qc_11 = QuantumCircuit(qr_mit, cr_mit)\n",
    "\n",
    "qc_11.x(0)\n",
    "qc_11.x(1)\n",
    "\n",
    "qc_11.barrier()\n",
    "qc_11.measure(qr_mit, cr_mit)\n",
    "counts_11 = fake_rome.run(qc_11, shots=num_shots)\\\n",
    "    .result().get_counts()\n",
    "\n",
    "pr_m_p[0][3] = counts_11['00']/num_shots if '00' in counts_11 else 0.0\n",
    "pr_m_p[1][3] = counts_11['01']/num_shots if '01' in counts_11 else 0.0\n",
    "pr_m_p[2][3] = counts_11['10']/num_shots if '10' in counts_11 else 0.0\n",
    "pr_m_p[3][3] = counts_11['11']/num_shots if '11' in counts_11 else 0.0\n",
    "\n",
    "np.set_printoptions(suppress=True)\n",
    "print(pr_m_p)"
   ]
  },
  {
   "cell_type": "markdown",
   "metadata": {
    "pycharm": {
     "name": "#%% md\n"
    }
   },
   "source": [
    "앞서 구한 실험 분포에 조건부확률 행렬의 역행렬을 곱하여 readout error가 보정된 결과를 얻을 수 있습니다."
   ]
  },
  {
   "cell_type": "code",
   "execution_count": 43,
   "metadata": {
    "pycharm": {
     "name": "#%%\n"
    }
   },
   "outputs": [
    {
     "name": "stdout",
     "output_type": "stream",
     "text": [
      "Before mitigation:  [0.46118164 0.02905273 0.03613281 0.47363281]\n",
      "After  mitigation:  [0.4791668  0.00415884 0.01107895 0.50559541]\n"
     ]
    }
   ],
   "source": [
    "pr_p = np.matmul(np.linalg.inv(pr_m_p), pr_m)\n",
    "print(\"Before mitigation: \", pr_m)\n",
    "print(\"After  mitigation: \", pr_p)"
   ]
  },
  {
   "cell_type": "markdown",
   "metadata": {
    "pycharm": {
     "name": "#%% md\n"
    }
   },
   "source": [
    "결과를 비교하기 위해 noiseless backend에서 시뮬레이션을 실행합니다."
   ]
  },
  {
   "cell_type": "code",
   "execution_count": 44,
   "metadata": {
    "pycharm": {
     "name": "#%%\n"
    }
   },
   "outputs": [
    {
     "name": "stdout",
     "output_type": "stream",
     "text": [
      "Ideal probs:  [0.49975586 0.         0.         0.50024414]\n",
      "Fidelity without mitigation:  0.9347759748597199\n",
      "Fidelity with mitigation:  0.9845912520029243\n"
     ]
    }
   ],
   "source": [
    "qasm_backend = AerProvider().get_backend(\"qasm_simulator\")\n",
    "counts_qasm = qasm_backend.run(qc, shots=num_shots).result().get_counts()\n",
    "\n",
    "pr_ideal = np.zeros(4, dtype=float)\n",
    "for b, v in counts_qasm.items():\n",
    "    pr_ideal[int(b, base=2)] = v/num_shots\n",
    "print(\"Ideal probs: \", pr_ideal)\n",
    "\n",
    "# convert pr_p to dict form\n",
    "counts_mit = dict()\n",
    "for i, v in enumerate(pr_p):\n",
    "    counts_mit[bin(i)[2:].rjust(2, '0')] = v * num_shots\n",
    "\n",
    "print(\"Fidelity without mitigation: \", hellinger_fidelity(counts_fake_rome, counts_qasm))\n",
    "print(\"Fidelity with mitigation: \", hellinger_fidelity(counts_mit, counts_qasm))"
   ]
  },
  {
   "cell_type": "code",
   "execution_count": 45,
   "metadata": {
    "pycharm": {
     "name": "#%%\n"
    }
   },
   "outputs": [
    {
     "data": {
      "image/png": "[encoded data removed]",
      "text/plain": [
       "<Figure size 700x500 with 1 Axes>"
      ]
     },
     "execution_count": 45,
     "metadata": {},
     "output_type": "execute_result"
    }
   ],
   "source": [
    "from qiskit.visualization import plot_histogram\n",
    "plot_histogram([counts_fake_rome, counts_mit, counts_qasm],\n",
    "               legend=['no mit', 'mitigated', 'ideal'])"
   ]
  },
  {
   "cell_type": "markdown",
   "metadata": {
    "pycharm": {
     "name": "#%% md\n"
    }
   },
   "source": [
    "### 3. Readout Error Mitigation (With tools)\n",
    "qiskit에서 제공하는 readout mitigation tool을 이용하여 위의 과정을 다음과 같이 쉽게 구현할 수도 있습니다."
   ]
  },
  {
   "cell_type": "code",
   "execution_count": 46,
   "metadata": {
    "pycharm": {
     "name": "#%%\n"
    }
   },
   "outputs": [
    {
     "name": "stdout",
     "output_type": "stream",
     "text": [
      "        ░ ┌─┐   \n",
      " q9_0: ─░─┤M├───\n",
      "        ░ └╥┘┌─┐\n",
      " q9_1: ─░──╫─┤M├\n",
      "        ░  ║ └╥┘\n",
      "c14: 2/════╩══╩═\n",
      "           0  1 \n",
      "       ┌───┐ ░ ┌─┐   \n",
      " q9_0: ┤ X ├─░─┤M├───\n",
      "       └───┘ ░ └╥┘┌─┐\n",
      " q9_1: ──────░──╫─┤M├\n",
      "             ░  ║ └╥┘\n",
      "c14: 2/═════════╩══╩═\n",
      "                0  1 \n",
      "             ░ ┌─┐   \n",
      " q9_0: ──────░─┤M├───\n",
      "       ┌───┐ ░ └╥┘┌─┐\n",
      " q9_1: ┤ X ├─░──╫─┤M├\n",
      "       └───┘ ░  ║ └╥┘\n",
      "c14: 2/═════════╩══╩═\n",
      "                0  1 \n",
      "       ┌───┐ ░ ┌─┐   \n",
      " q9_0: ┤ X ├─░─┤M├───\n",
      "       ├───┤ ░ └╥┘┌─┐\n",
      " q9_1: ┤ X ├─░──╫─┤M├\n",
      "       └───┘ ░  ║ └╥┘\n",
      "c14: 2/═════════╩══╩═\n",
      "                0  1 \n"
     ]
    }
   ],
   "source": [
    "from qiskit.ignis.mitigation import CompleteMeasFitter, complete_meas_cal\n",
    "\n",
    "meas_calibs, state_labels = complete_meas_cal(qr=qr_mit, circlabel='mcal')\n",
    "for ckt in meas_calibs:\n",
    "    print(ckt)"
   ]
  },
  {
   "cell_type": "code",
   "execution_count": 47,
   "metadata": {
    "pycharm": {
     "name": "#%%\n"
    }
   },
   "outputs": [
    {
     "name": "stdout",
     "output_type": "stream",
     "text": [
      "[[0.95336914 0.03833008 0.03051758 0.00195312]\n",
      " [0.02148438 0.93652344 0.00048828 0.0378418 ]\n",
      " [0.02490234 0.00097656 0.94677734 0.0402832 ]\n",
      " [0.00024414 0.02416992 0.0222168  0.91992188]]\n"
     ]
    },
    {
     "data": {
      "image/png": "[encoded data removed]",
      "text/plain": [
       "<Figure size 640x480 with 2 Axes>"
      ]
     },
     "metadata": {},
     "output_type": "display_data"
    }
   ],
   "source": [
    "job_calibs = fake_rome.run(meas_calibs, shots=num_shots)\n",
    "meas_fitter = CompleteMeasFitter(job_calibs.result(), state_labels, circlabel='mcal')\n",
    "\n",
    "print(meas_fitter.cal_matrix)\n",
    "meas_fitter.plot_calibration()"
   ]
  },
  {
   "cell_type": "code",
   "execution_count": 48,
   "metadata": {
    "pycharm": {
     "name": "#%%\n"
    }
   },
   "outputs": [
    {
     "name": "stdout",
     "output_type": "stream",
     "text": [
      "Fidelity with mitigation:  0.9964055019466439\n"
     ]
    }
   ],
   "source": [
    "# Get the filter object\n",
    "meas_filter = meas_fitter.filter\n",
    "\n",
    "# Results with mitigation\n",
    "mitigated_results = meas_filter.apply(result_fake_rome)\n",
    "mitigated_counts = mitigated_results.get_counts(0)\n",
    "\n",
    "print(\"Fidelity with mitigation: \", hellinger_fidelity(mitigated_counts, counts_qasm))"
   ]
  }
 ],
 "metadata": {
  "kernelspec": {
   "display_name": "PyCharm (qiskit_tutorial_2021_summerschool)",
   "language": "python",
   "name": "pycharm-1c28096b"
  },
  "language_info": {
   "codemirror_mode": {
    "name": "ipython",
    "version": 3
   },
   "file_extension": ".py",
   "mimetype": "text/x-python",
   "name": "python",
   "nbconvert_exporter": "python",
   "pygments_lexer": "ipython3",
   "version": "3.8.11"
  }
 },
 "nbformat": 4,
 "nbformat_minor": 1
}
